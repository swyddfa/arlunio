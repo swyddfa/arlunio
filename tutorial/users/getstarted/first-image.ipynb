{
 "cells": [
  {
   "cell_type": "markdown",
   "metadata": {},
   "source": [
    "# Your First Image\n",
    "\n",
    "![](resources/sunny-day.png)\n",
    "*A nice sunny day:*\n",
    "\n",
    "In this tutorial we will be drawing the image you see above. Along the way\n",
    "you’ll learn some of ways you can create simple images and combine them into a\n",
    "final composition. Given the visual nature of this library it’s recommended\n",
    "that you follow along using a Jupyter Notebook so that you can see the results\n",
    "of each step incrementally.\n",
    "\n",
    "We start off by importing the modules we need.\n"
   ]
  },
  {
   "cell_type": "code",
   "execution_count": null,
   "metadata": {},
   "outputs": [],
   "source": [
    "import arlunio.image as image\n",
    "import arlunio.shape as shape"
   ]
  },
  {
   "cell_type": "markdown",
   "metadata": {},
   "source": [
    "\n",
    "Next we decide on a resolution at which we want to render our final image at\n",
    "and create an image containing the background color representing the sky.\n"
   ]
  },
  {
   "cell_type": "code",
   "execution_count": null,
   "metadata": {},
   "outputs": [],
   "source": [
    "width, height = 1920, 1080\n",
    "background = image.new(width, height, color=\"lightskyblue\")\n",
    "background"
   ]
  },
  {
   "cell_type": "markdown",
   "metadata": {},
   "source": [
    "\n",
    "Now we’ll create a circle to represent the sun and position it over and up to\n",
    "the left. To produce an image we can use the `fill` function to color in\n",
    "the circle with a yellow color.\n"
   ]
  },
  {
   "cell_type": "code",
   "execution_count": null,
   "metadata": {},
   "outputs": [],
   "source": [
    "sun_shape = shape.Circle(xc=-1.2, yc=0.8, r=0.6)\n",
    "sun = image.fill(sun_shape(width=width, height=height), foreground=\"yellow\")\n",
    "sun"
   ]
  },
  {
   "cell_type": "markdown",
   "metadata": {},
   "source": [
    "\n",
    "Adding our `background` and `sun` images together we can start\n",
    "building up our final image - order matters!\n"
   ]
  },
  {
   "cell_type": "code",
   "execution_count": null,
   "metadata": {},
   "outputs": [],
   "source": [
    "final_image = background + sun\n",
    "final_image"
   ]
  },
  {
   "cell_type": "markdown",
   "metadata": {},
   "source": [
    "\n",
    "Then following a similar process we can create the two hills and add them onto\n",
    "the final image.\n"
   ]
  },
  {
   "cell_type": "code",
   "execution_count": null,
   "metadata": {},
   "outputs": [],
   "source": [
    "hill = shape.Circle(xc=-1, yc=-2.1, r=1.5)\n",
    "final_image += image.fill(hill(width=width, height=height), foreground=\"limegreen\")\n",
    "\n",
    "hill = shape.Circle(xc=1, yc=-1.8, r=1.3)\n",
    "final_image += image.fill(hill(width=width, height=height), foreground=\"lawngreen\")\n",
    "\n",
    "final_image"
   ]
  },
  {
   "cell_type": "markdown",
   "metadata": {},
   "source": [
    "\n",
    "Congratulations! You’ve just drawn your first image with `arlunio`! Don’t\n",
    "forget to save it as a PNG so you can share it with all your friends 😃\n"
   ]
  },
  {
   "cell_type": "code",
   "execution_count": null,
   "metadata": {},
   "outputs": [],
   "source": [
    "final_image.save(\"sunny-day.png\")"
   ]
  },
  {
   "cell_type": "markdown",
   "metadata": {},
   "source": [
    "## Test Your Skills\n",
    "\n",
    "As with anything practice makes perfect so we’ve included a few exercises for\n",
    "you to try, can you use what you have learned so far to recreate the examples\n",
    "below?\n",
    "\n",
    "We have included a solution for each example if you get stuck but keep in mind\n",
    "that there is no “correct answer”. Quite often there are multiple ways to\n",
    "achieve the same result!\n",
    "\n",
    "![](resources/sunset.png)\n",
    "*Sunset:*\n"
   ]
  },
  {
   "cell_type": "code",
   "execution_count": null,
   "metadata": {},
   "outputs": [],
   "source": []
  },
  {
   "cell_type": "code",
   "execution_count": null,
   "metadata": {},
   "outputs": [],
   "source": [
    "# Write your solution here...\n"
   ]
  },
  {
   "cell_type": "code",
   "execution_count": null,
   "metadata": {},
   "outputs": [],
   "source": [
    "# Execute this cell to load the example solution\n",
    "%load resources/first-image-soln-01.py"
   ]
  }
 ],
 "metadata": {},
 "nbformat": 4,
 "nbformat_minor": 4
}