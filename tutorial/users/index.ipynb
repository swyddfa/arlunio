{
 "cells": [
  {
   "cell_type": "markdown",
   "metadata": {},
   "source": [
    "# User Guide\n",
    "\n",
    "Welcome to the user guide! It is made up from a number of guided projects that\n",
    "each try to focus on a particular aspect of `arlunio`. Each project\n",
    "should be self contained so feel free to try them in whichever order you fancy.\n",
    "\n",
    "- [[Getting Started]](getstarted/index.ipynb#users-getstarted): New users should start here.\n",
    "\n",
    "> **Note**\n",
    "\n",
    "> Being an interactive guide you are of course free to play around with and\n",
    "> change **any** of the code you see here - in fact we encourage it! The\n",
    "> only way to truly gain an intuition for how the concepts introduced here\n",
    "> work will be to experiment.\n",
    "> \n",
    "> There’s no need to worry about breaking anything either, if you ever get\n",
    "> to the point where you wish you could start over you can! At any time you\n",
    "> can close and re-launch the tutorial with the command\n",
    "> `arlunio tutorial --reset` which will reset this folder back to its\n",
    "> default state.\n",
    "> \n",
    "> **This command will revert any changes to this folder - including\n",
    "> deleting any additional notebooks you have created. Be sure to back up\n",
    "> anything important before running this command.**\n",
    "> "
   ]
  }
 ],
 "metadata": {},
 "nbformat": 4,
 "nbformat_minor": 4
}