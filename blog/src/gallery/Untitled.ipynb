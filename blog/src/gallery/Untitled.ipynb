{
 "cells": [
  {
   "cell_type": "code",
   "execution_count": null,
   "metadata": {},
   "outputs": [],
   "source": [
    "print('{\\n \"cells\": [\\n  {\\n   \"cell_type\": \"markdown\",\\n   \"metadata\": {},\\n   \"source\": [\\n    \"\\\\n\",\\n    \"- Item one\\\\n\",\\n    \"- Item two, for reasons it has been decided to make this item much longer than\\\\n\",\\n    \"the other items to ensure that we can cover the case where the items contiain longer\\\\n\",\\n    \"content\\\\n\",\\n    \"- Item three\\\\n\"\\n   ]\\n  }\\n ],\\n \"metadata\": {},\\n \"nbformat\": 4,\\n \"nbformat_minor\": 2\\n}')"
   ]
  },
  {
   "cell_type": "code",
   "execution_count": null,
   "metadata": {},
   "outputs": [],
   "source": [
    "print('{\\n \"cells\": [\\n  {\\n   \"cell_type\": \"markdown\",\\n   \"metadata\": {},\\n   \"source\": [\\n    \"- Item one\\\\n\",\\n    \"- Item two, for reasons it has been decided to make this item much longer than\\\\n\",\\n    \"the other items to ensure that we can cover the case where the items contiain longer\\\\n\",\\n    \"content\\\\n\",\\n    \"- Item three\\\\n\"\\n   ]\\n  }\\n ],\\n \"metadata\": {},\\n \"nbformat\": 4,\\n \"nbformat_minor\": 2\\n}')"
   ]
  },
  {
   "cell_type": "code",
   "execution_count": null,
   "metadata": {},
   "outputs": [],
   "source": []
  }
 ],
 "metadata": {
  "kernelspec": {
   "display_name": "Python 3",
   "language": "python",
   "name": "python3"
  },
  "language_info": {
   "codemirror_mode": {
    "name": "ipython",
    "version": 3
   },
   "file_extension": ".py",
   "mimetype": "text/x-python",
   "name": "python",
   "nbconvert_exporter": "python",
   "pygments_lexer": "ipython3",
   "version": "3.8.2"
  }
 },
 "nbformat": 4,
 "nbformat_minor": 4
}
