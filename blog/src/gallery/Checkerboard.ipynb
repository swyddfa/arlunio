{
 "cells": [
  {
   "cell_type": "code",
   "execution_count": null,
   "metadata": {},
   "outputs": [],
   "source": [
    "import arlunio as ar\n",
    "\n",
    "from arlunio.image import Image, fill\n",
    "from arlunio.pattern import Grid\n",
    "from arlunio.math import X, Y"
   ]
  },
  {
   "cell_type": "code",
   "execution_count": null,
   "metadata": {},
   "outputs": [],
   "source": [
    "@ar.definition\n",
    "def CheckerPattern(x: X, y: Y):\n",
    "    return x * y > 0"
   ]
  },
  {
   "cell_type": "code",
   "execution_count": null,
   "metadata": {},
   "outputs": [],
   "source": [
    "@ar.definition\n",
    "def Checkerboard(width: int, height: int) -> Image:\n",
    "    board = Grid(defn=CheckerPattern())\n",
    "    return fill(board(width=width, height=height))"
   ]
  },
  {
   "cell_type": "code",
   "execution_count": null,
   "metadata": {},
   "outputs": [],
   "source": [
    "checkerboard = Checkerboard()\n",
    "image = checkerboard(width=1080, height=1080) \n",
    "image"
   ]
  },
  {
   "cell_type": "code",
   "execution_count": null,
   "metadata": {},
   "outputs": [],
   "source": []
  }
 ],
 "metadata": {
  "arlunio": {
   "author": {
    "github": "alcarney",
    "name": "Alex Carney"
   },
   "version": "0.0.6"
  },
  "kernelspec": {
   "display_name": "Python 3",
   "language": "python",
   "name": "python3"
  },
  "language_info": {
   "codemirror_mode": {
    "name": "ipython",
    "version": 3
   },
   "file_extension": ".py",
   "mimetype": "text/x-python",
   "name": "python",
   "nbconvert_exporter": "python",
   "pygments_lexer": "ipython3",
   "version": "3.8.2"
  }
 },
 "nbformat": 4,
 "nbformat_minor": 4
}
