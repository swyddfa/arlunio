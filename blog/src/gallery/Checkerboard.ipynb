{
 "cells": [
  {
   "cell_type": "markdown",
   "metadata": {},
   "source": [
    "A checkerboard:"
   ]
  },
  {
   "cell_type": "code",
   "execution_count": null,
   "metadata": {},
   "outputs": [],
   "source": [
    "import arlunio.image as image\n",
    "import arlunio.mask as mask\n",
    "import arlunio.pattern as pattern\n",
    "\n",
    "grid = mask.Repeat(defn=pattern.Checker())\n",
    "img = image.fill(grid(width=1080, height=1080), background=\"white\")"
   ]
  }
 ],
 "metadata": {
  "arlunio": {
   "author": {
    "github": "swyddfa",
    "name": "Swyddfa Developers"
   },
   "version": "0.10.0"
  }
 },
 "nbformat": 4,
 "nbformat_minor": 4
}
