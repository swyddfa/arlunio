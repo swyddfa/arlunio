{
 "cells": [
  {
   "cell_type": "markdown",
   "metadata": {},
   "source": [
    "A quick demo of the new raytracing module in the standard library. It is based on the first half of the\n",
    "[Ray Tracing in One Weekend](https://raytracing.github.io/books/RayTracingInOneWeekend.html) book however \n",
    "will need further development before it becomes truly useful."
   ]
  },
  {
   "cell_type": "code",
   "execution_count": null,
   "metadata": {},
   "outputs": [],
   "source": [
    "import numpy as np\n",
    "from arlunio.raytrace import (\n",
    "    LambertianDiffuse,\n",
    "    MaterialRenderer,\n",
    "    SampledRenderer,\n",
    "    Sphere\n",
    ")"
   ]
  },
  {
   "cell_type": "code",
   "execution_count": null,
   "metadata": {},
   "outputs": [],
   "source": [
    "objects = [\n",
    "    (Sphere(center=np.array([0, -100.5, -1]), radius=100), LambertianDiffuse()),\n",
    "    (Sphere(center=np.array([0, 0, -1])), LambertianDiffuse(color='coral'))\n",
    "]\n",
    "\n",
    "kernel = MaterialRenderer(objects=objects, bounces=50)\n",
    "\n",
    "renderer = SampledRenderer(kernel=kernel, samples=50)\n",
    "image = renderer(width=1920, height=1080)"
   ]
  },
  {
   "cell_type": "code",
   "execution_count": null,
   "metadata": {},
   "outputs": [],
   "source": [
    "image"
   ]
  }
 ],
 "metadata": {
  "arlunio": {
   "author": {
    "github": "alcarney",
    "name": "Alex Carney"
   },
   "version": "0.0.7"
  },
  "kernelspec": {
   "display_name": "Python 3",
   "language": "python",
   "name": "python3"
  },
  "language_info": {
   "codemirror_mode": {
    "name": "ipython",
    "version": 3
   },
   "file_extension": ".py",
   "mimetype": "text/x-python",
   "name": "python",
   "nbconvert_exporter": "python",
   "pygments_lexer": "ipython3",
   "version": "3.8.2"
  }
 },
 "nbformat": 4,
 "nbformat_minor": 4
}
