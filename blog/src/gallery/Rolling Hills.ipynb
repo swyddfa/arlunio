{
 "cells": [
  {
   "cell_type": "code",
   "execution_count": null,
   "metadata": {},
   "outputs": [],
   "source": [
    "import arlunio as ar\n",
    "import numpy as np\n",
    "\n",
    "from arlunio.lib import Circle, X, Y"
   ]
  },
  {
   "cell_type": "code",
   "execution_count": null,
   "metadata": {},
   "outputs": [],
   "source": [
    "@ar.definition\n",
    "def Cloud(x: X, y: Y, *, x0=0, y0=0, s=0.8):\n",
    "    r=s\n",
    "    \n",
    "    c1 = Circle(r=r)\n",
    "    c2 = Circle(xc=1, yc=-0.2, r=(r*0.8))\n",
    "    c3 = Circle(xc=0.6, yc=0.2, r=(r*0.8))\n",
    "    c4 = Circle(yc=0.5, r=(r*0.8))\n",
    "    \n",
    "    return ar.any(\n",
    "        c1(x=x, y=y),\n",
    "        c2(x=np.abs(x), y=y),\n",
    "        c3(x=np.abs(x), y=np.abs(y)),\n",
    "        c4(x=x, y=y)\n",
    "    )\n"
   ]
  },
  {
   "cell_type": "code",
   "execution_count": null,
   "metadata": {},
   "outputs": [],
   "source": [
    "@ar.definition\n",
    "def RollingHills(width: int, height: int) -> ar.Image:\n",
    "    \n",
    "    sun = Circle(xc=-1.2, yc=0.8, r=0.6)\n",
    "    image = ar.fill(sun(width=width, height=height), color=\"#ff0\", background=\"#aef\")\n",
    "\n",
    "    clouds = [\n",
    "        Cloud(x0=3.2, y0=2, scale=3),\n",
    "        Cloud(x0=1, y0=2, scale=5),\n",
    "        Cloud(x0=-2.7, y0=2, scale=3)\n",
    "    ]\n",
    "\n",
    "    for cloud in clouds:\n",
    "        image = ar.fill(cloud(width=width, height=height), color=\"#fff\", image=image)\n",
    "\n",
    "    big_hill = Circle(x0=-1, y0=-2.1, r=1.5)\n",
    "    small_hill = Circle(x0=1, y0=-1.8, r=1.3)\n",
    "\n",
    "    image = ar.fill(big_hill(width=width, height=height), color=\"#0c0\", image=image)\n",
    "    image = ar.fill(small_hill(width=width, height=height), color=\"#0e0\", image=image)       \n",
    "\n",
    "    return image "
   ]
  },
  {
   "cell_type": "code",
   "execution_count": null,
   "metadata": {},
   "outputs": [],
   "source": [
    "hills = RollingHills()\n",
    "image = hills(width=1920, height=1080)\n",
    "image"
   ]
  }
 ],
 "metadata": {
  "arlunio": {
   "author": {
    "github": "alcarney",
    "name": "Alex Carney"
   },
   "version": "0.0.6"
  },
  "kernelspec": {
   "display_name": "Python 3",
   "language": "python",
   "name": "python3"
  },
  "language_info": {
   "codemirror_mode": {
    "name": "ipython",
    "version": 3
   },
   "file_extension": ".py",
   "mimetype": "text/x-python",
   "name": "python",
   "nbconvert_exporter": "python",
   "pygments_lexer": "ipython3",
   "version": "3.8.2"
  }
 },
 "nbformat": 4,
 "nbformat_minor": 4
}
