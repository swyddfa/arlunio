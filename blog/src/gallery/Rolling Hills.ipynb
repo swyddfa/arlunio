{
 "cells": [
  {
   "cell_type": "code",
   "execution_count": null,
   "metadata": {},
   "outputs": [],
   "source": [
    "import arlunio as ar\n",
    "import numpy as np\n",
    "\n",
    "from arlunio import Shapes as S"
   ]
  },
  {
   "cell_type": "code",
   "execution_count": null,
   "metadata": {},
   "outputs": [],
   "source": [
    "@ar.shape\n",
    "def Fill():\n",
    "    return True"
   ]
  },
  {
   "cell_type": "code",
   "execution_count": null,
   "metadata": {},
   "outputs": [],
   "source": [
    "@ar.shape\n",
    "def Cloud(x, y, *, x0=0, y0=0):\n",
    "    r = 0.8\n",
    "    x = x - x0\n",
    "    y = y - y0 \n",
    "    \n",
    "    c1 = S.Circle(r=r)\n",
    "    c2 = S.Circle(x0=1, y0=-0.2, r=(r*0.8))\n",
    "    c3 = S.Circle(x0=0.6, y0=0.2, r=(r*0.8))\n",
    "    c4 = S.Circle(y0=0.5, r=(r*0.8))\n",
    "    \n",
    "    return ar.any(\n",
    "        c1(x=x, y=y),\n",
    "        c2(x=np.abs(x), y=y),\n",
    "        c3(x=np.abs(x), y=np.abs(y)),\n",
    "        c4(x=x, y=y)\n",
    "    )\n"
   ]
  },
  {
   "cell_type": "code",
   "execution_count": null,
   "metadata": {},
   "outputs": [],
   "source": [
    "image = Fill(color=\"aaeeff\")\n",
    "image += S.Circle(x0=-1.2, y0=0.8, r=0.6, color=\"ffff00\")\n",
    "\n",
    "image += Cloud(x0=3.2, y0=2, scale=3, color=\"ffffff\")\n",
    "image += Cloud(x0=1, y0=2, scale=5, color=\"ffffff\")\n",
    "image += Cloud(x0=-2.7, y0=2, scale=3, color=\"ffffff\")\n",
    "\n",
    "image += S.Circle(x0=-1, y0=-2.1, r=1.5, color=\"00cc00\")\n",
    "image += S.Circle(x0=1, y0=-1.8, r=1.3, color=\"00ee00\")"
   ]
  }
 ],
 "metadata": {
  "arlunio": {
   "author": {
    "github": "alcarney",
    "name": "Alex Carney"
   },
   "dimensions": [
    1920,
    1080
   ],
   "version": "0.0.3b8"
  },
  "kernelspec": {
   "display_name": "Python 3",
   "language": "python",
   "name": "python3"
  },
  "language_info": {
   "codemirror_mode": {
    "name": "ipython",
    "version": 3
   },
   "file_extension": ".py",
   "mimetype": "text/x-python",
   "name": "python",
   "nbconvert_exporter": "python",
   "pygments_lexer": "ipython3",
   "version": "3.8.0"
  }
 },
 "nbformat": 4,
 "nbformat_minor": 4
}