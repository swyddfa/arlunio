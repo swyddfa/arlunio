{
 "cells": [
  {
   "cell_type": "markdown",
   "metadata": {},
   "source": [
    "I thought it would be interesting to experiment with creating an image that changed each time it was drawn.\n",
    "Now this isn't the most exciting realisation of that idea, but it does also touch on an idea I want to look at\n",
    "developing further as part of `arlunio` itself. Applying the concept of interfaces to arlunio images I think\n",
    "could be very powerful - imagine having some generic \"human\" that knew how to walk and all you had to\n",
    "do was tell it how to draw one...\n",
    "\n",
    "Anyway back to this image, as you've probably noticed by now it's a clock - not a very interesting clock\n",
    "but it tells the time, in fact it's frozen at the time that it was when the image was rendered."
   ]
  },
  {
   "cell_type": "code",
   "execution_count": null,
   "metadata": {},
   "outputs": [],
   "source": [
    "import arlunio as ar\n",
    "import numpy as np\n",
    "\n",
    "from datetime import datetime\n",
    "from arlunio.lib import Circle, R, T"
   ]
  },
  {
   "cell_type": "markdown",
   "metadata": {},
   "source": [
    "As the clock is made up from a collection of distinct shapes you need to ensure that each\n",
    "component is defined with a consistent scale otherwise it won't look right. I found\n",
    "it useful to say that the radius of the clockface is `1` and then define everything else relative\n",
    "to that. However since the default scale of the grid an image is defined on is also `1` the\n",
    "clock would look a bit cramped as it would run right up againt the edge.\n",
    "\n",
    "Rather than work to a more awkard scale I'm defining a `scale` paramaeter that I'm going to pass\n",
    "to each shape. This changes the size of the underlying cartesian grid that is mapped onto the\n",
    "image when drawn. By enlarging this grid each shape will appear smaller and fit better into the\n",
    "final image"
   ]
  },
  {
   "cell_type": "code",
   "execution_count": null,
   "metadata": {},
   "outputs": [],
   "source": [
    "scale = 1.1"
   ]
  },
  {
   "cell_type": "markdown",
   "metadata": {},
   "source": [
    "As you've probably noticed the hands of the clock are just rectangles, but instead of\n",
    "using the built in `Rectangle` shape in the standard library I've decided to define\n",
    "a custom `ClockHand` shape. This is because the standard `Rectangle` shape is hard to\n",
    "control in this scenario (perhaps this should be improved 🤔...) You will also see that \n",
    "I'm using [polar coordinates](https://en.wikipedia.org/wiki/Polar_coordinate_system)\n",
    "instead of the conventional \\\\(x\\\\) and \\\\(y\\\\)\n",
    "\n",
    "By defining the `ClockHand` shape with polar coordinates adding the ability to set the\n",
    "rotation becomes easy since all we have to do is take an offset `t0` and subtract it from\n",
    "the angle parameter `t`. Something to note is that when `arlunio` maps polar coordinates onto\n",
    "an image it follows the mathematical convention of having the line `t = 0` be at\n",
    "3 o'clock, so in order to make positioning the hands easier later on I also shift this\n",
    "coordinate by \\\\(\\frac{\\pi}{2}\\\\) (90 degrees) so when `t0 = 0` the hand will be pointing at\n",
    "12 o'clock\n",
    "\n",
    "Unfortunately while nice for expressing rotations, polar coordinates are certainly not the\n",
    "best at expressing a rectangle. Thankfully the conversion from polar to standard \\\\(x\\\\) and\n",
    "\\\\(y\\\\) coordinates is quite straightforward\n",
    "\n",
    "\\begin{align}\n",
    "    x &= r\\cos{(t)} \\\\\\\\\n",
    "    y &= r\\sin{(t)} \n",
    "\\end{align}\n",
    "\n",
    "Once we have our \\\\(x\\\\) and \\\\(y\\\\) coordinates it's easy enough to define a rectangle as\n",
    "(ar.)all the \\\\(x\\\\) values between `0` and the `length` **and** all the \\\\(y\\\\) values\n",
    "between `-size` and `size`."
   ]
  },
  {
   "cell_type": "code",
   "execution_count": null,
   "metadata": {},
   "outputs": [],
   "source": [
    "@ar.definition\n",
    "def ClockHand(r: R, t: T, *, length=1, size=0.025):\n",
    "    t -= np.pi/2\n",
    "    \n",
    "    x = r * np.cos(t)\n",
    "    y = r * np.sin(t)\n",
    "      \n",
    "    return ar.all(\n",
    "        x > 0, x < length,\n",
    "        np.abs(y) < size\n",
    "    )"
   ]
  },
  {
   "cell_type": "markdown",
   "metadata": {},
   "source": [
    "Next we look at the shape I've called `Numeral`, since it's used to indicate the hours on the\n",
    "clockface having the ability to rotate it easily is important so it is also defined with respect\n",
    "to polar coordinates. In fact it's definition is almost identical to the `ClockHand` shape\n",
    "with one small difference. To try and make the clock a little more interesting to look at the sides\n",
    "of a numeral are defined to be those underneath a small slope, instead of having flat sides\n",
    "like a rectangle."
   ]
  },
  {
   "cell_type": "code",
   "execution_count": null,
   "metadata": {},
   "outputs": [],
   "source": [
    "@ar.definition\n",
    "def Numeral(r: R, t: T):\n",
    "    t -= np.pi/2\n",
    "    \n",
    "    x = r * np.cos(t)\n",
    "    y = r * np.sin(t)\n",
    "    \n",
    "    return ar.all(\n",
    "        x > 0.8, x < 0.95,\n",
    "        np.abs(y) < (0.1 * x) - 0.07\n",
    "    )"
   ]
  },
  {
   "cell_type": "markdown",
   "metadata": {},
   "source": [
    "With all the shapes that we need defined it's time to focus on how we're going to position\n",
    "the hands in order to tell the time. This is where we get into that \"interfaces\" idea I was talking\n",
    "about earlier, as you can see there's nothing formal yet instead we're just taking advantage of \n",
    "Python's duck typing. This function only requires that the shapes you give it all have a \n",
    "`t0` property that controls its angle - which is all you need to implement a clock poser(?),\n",
    "positioner(?), director(?)... 🤔 we'll have to think of a name later!\n",
    "\n",
    "Calculating the angle itself is quite straightforward - assuming you're familiar with\n",
    "[radians](https://en.wikipedia.org/wiki/Radian) that is. The `make_clock` function is \n",
    "written with the assumption that `t0 = 0` is going to correpsond with the hand pointing at 12 o'clock,\n",
    "which we ensured earlier when shifting the `t` parameter in the `ClockHand` shape by \\\\(\\frac{\\pi}{2}\\\\)\n",
    "radians (90 degrees).\n",
    "\n",
    "From there it's case of unpacking our Python [datetime](https://docs.python.org/3/library/datetime.html#datetime.datetime)\n",
    "object and calculating the percentage each respective hand has travelled around the clockface \n",
    "by dividing it by the maximum value each hand can represent (60 minutes in an hour, 12 hours \n",
    "on a clock etc). Once we have the percentage we can multiply it by \\\\(2\\pi\\\\)) (360 degrees)\n",
    "to get the angle. Finally we add each of the shapes representing the hands together so that\n",
    "we return a single object representing the clock."
   ]
  },
  {
   "cell_type": "code",
   "execution_count": null,
   "metadata": {},
   "outputs": [],
   "source": [
    "def make_clock(dt, width, height, image, hour_hand, minute_hand, second_hand):\n",
    "    hour = dt.hour if dt.hour <= 12 else dt.hour - 12\n",
    "    minutes = dt.minute\n",
    "    seconds = dt.second\n",
    "    \n",
    "    second_hand.t0 = -2 * np.pi * (seconds / 60) \n",
    "    minute_hand.t0 = -2 * np.pi * (minutes / 60)\n",
    "    hour_hand.t0 = -2 * np.pi * ((hour / 12) + (minutes / 600))\n",
    "\n",
    "    image = ar.fill(second_hand(width, height), color=\"#f00\", image=image)\n",
    "    image = ar.fill(minute_hand(width, height), image=image)\n",
    "    image = ar.fill(hour_hand(width, height), image=image)\n",
    "\n",
    "    center = Circle(r=0.2)\n",
    "    image = ar.fill(center(width, height), image=image)\n",
    "\n",
    "    return image"
   ]
  },
  {
   "cell_type": "markdown",
   "metadata": {},
   "source": [
    "A few other points of interest to make about the above implementation\n",
    "\n",
    "- `datetime` objects use 24hr time so it feels neater to convert it to 12hr time even if it's\n",
    "  not strictly necessary\n",
    "- When calculating the angle for the hour hand we also add a small contribution from the minute\n",
    "  hand so that we replicate the effect of the hour hand moving between numbers throughout the\n",
    "  hour. - However it probably requires further thought in order to produce a more accurate result...\n",
    "  \n",
    "Last but not least we come to the final assembly, I've gone on long enough as it is so here\n",
    "is a few highlights\n",
    "\n",
    "- We create three instances of the `ClockHand`, hours, minutes and seconds\n",
    "- Using a for loop we \"spin\" an instance of the `Numeral` shape around the clockface one for each \n",
    "  hour.\n",
    "- Since our `make_clock` function was written to take any `datetime` instance, having the clock\n",
    "  frozen at the time it was drawn is a simple as passing the result of `datetime.now()` to the\n",
    "  function."
   ]
  },
  {
   "cell_type": "code",
   "execution_count": null,
   "metadata": {},
   "outputs": [],
   "source": [
    "@ar.definition\n",
    "def Clock(width, height) -> ar.Image:\n",
    "\n",
    "    clock = Circle(r=1, pt=0.01, scale=scale)\n",
    "    image = ar.fill(clock(width, height))\n",
    "\n",
    "    for i in range(12):\n",
    "        t0 = i * (np.pi / 6)\n",
    "        numeral = Numeral(t0=t0, scale=scale)\n",
    "        image = ar.fill(numeral(width, height), image=image)\n",
    "\n",
    "    hour_hand = ClockHand(size=0.02, length=0.5, scale=scale)\n",
    "    minute_hand = ClockHand(size=0.02, length=0.8, scale=scale)\n",
    "    second_hand = ClockHand(size=0.01, length=.95, scale=scale)\n",
    "\n",
    "    return make_clock(datetime.now(), width, height, image, hour_hand, minute_hand, second_hand)\n",
    "\n",
    "clock = Clock()"
   ]
  }
 ],
 "metadata": {
  "arlunio": {
   "author": {
    "github": "alcarney",
    "name": "Alex Carney"
   },
   "dimensions": [
    1920,
    1080
   ],
   "version": "0.0.3b8"
  },
  "kernelspec": {
   "display_name": "Python 3",
   "language": "python",
   "name": "python3"
  },
  "language_info": {
   "codemirror_mode": {
    "name": "ipython",
    "version": 3
   },
   "file_extension": ".py",
   "mimetype": "text/x-python",
   "name": "python",
   "nbconvert_exporter": "python",
   "pygments_lexer": "ipython3",
   "version": "3.8.2"
  }
 },
 "nbformat": 4,
 "nbformat_minor": 4
}
