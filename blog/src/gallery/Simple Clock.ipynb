{
 "cells": [
  {
   "cell_type": "code",
   "execution_count": null,
   "metadata": {},
   "outputs": [],
   "source": [
    "from datetime import datetime\n",
    "\n",
    "import arlunio as ar\n",
    "import numpy as np"
   ]
  },
  {
   "cell_type": "code",
   "execution_count": null,
   "metadata": {},
   "outputs": [],
   "source": [
    "scale = 1.1"
   ]
  },
  {
   "cell_type": "code",
   "execution_count": null,
   "metadata": {},
   "outputs": [],
   "source": [
    "@ar.shape\n",
    "def ClockHand(r, t, *, length=1, size=0.025, t0=0):\n",
    "    t -= np.pi/2 - t0\n",
    "    \n",
    "    x = r * np.cos(t)\n",
    "    y = r * np.sin(t)\n",
    "      \n",
    "    return ar.all(\n",
    "        x > 0, x < length,\n",
    "        np.abs(y) < size\n",
    "    )\n",
    "\n",
    "@ar.shape\n",
    "def Numeral(r, t, *, t0=0):\n",
    "    t -= np.pi/2 - t0\n",
    "    \n",
    "    x = r * np.cos(t)\n",
    "    y = r * np.sin(t)\n",
    "    \n",
    "    return ar.all(\n",
    "        x > 0.8, x < 0.95,\n",
    "        np.abs(y) < (0.1 * x) - 0.07\n",
    "    )"
   ]
  },
  {
   "cell_type": "code",
   "execution_count": null,
   "metadata": {},
   "outputs": [],
   "source": [
    "def make_clock(dt, hour_hand=None, minute_hand=None, second_hand=None):\n",
    "    hour = dt.hour if dt.hour <= 12 else dt.hour - 12\n",
    "    minutes = dt.minute\n",
    "    seconds = dt.second\n",
    "    \n",
    "    second_hand.t0 = 2 * np.pi * (seconds / 60) \n",
    "    minute_hand.t0 = 2 * np.pi * (minutes / 60)\n",
    "    hour_hand.t0 = 2 * np.pi * ((hour / 12) + (minutes / 600))\n",
    "    \n",
    "    center = ar.S.Circle(r=0.2)\n",
    "    \n",
    "    clock = hour_hand + minute_hand + second_hand + center\n",
    "    return clock"
   ]
  },
  {
   "cell_type": "code",
   "execution_count": null,
   "metadata": {},
   "outputs": [],
   "source": [
    "hour_hand = ClockHand(size=0.02, length=0.5, scale=scale)\n",
    "minute_hand = ClockHand(size=0.02, length=0.8, scale=scale)\n",
    "second_hand = ClockHand(size=0.01, length=.95, color=\"ff0000\", scale=scale)\n",
    "\n",
    "clock = ar.S.Circle(r=1, pt=0.01, scale=scale)\n",
    "\n",
    "for i in range(12):\n",
    "    t0 = i * (np.pi / 6)\n",
    "    clock += Numeral(t0=t0, scale=scale)\n",
    "\n",
    "clock += make_clock(datetime.now(), hour_hand, minute_hand, second_hand)"
   ]
  }
 ],
 "metadata": {
  "arlunio": {
   "author": {
    "github": "alcarney",
    "name": "Alex Carney"
   },
   "dimensions": [
    1920,
    1080
   ],
   "version": "0.0.3b8"
  },
  "kernelspec": {
   "display_name": "Python 3",
   "language": "python",
   "name": "python3"
  },
  "language_info": {
   "codemirror_mode": {
    "name": "ipython",
    "version": 3
   },
   "file_extension": ".py",
   "mimetype": "text/x-python",
   "name": "python",
   "nbconvert_exporter": "python",
   "pygments_lexer": "ipython3",
   "version": "3.8.0"
  }
 },
 "nbformat": 4,
 "nbformat_minor": 4
}
