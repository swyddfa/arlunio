{
 "cells": [
  {
   "cell_type": "markdown",
   "metadata": {},
   "source": [
    "I thought it would be interesting to experiment with creating an image that changed each time it was drawn.\n",
    "Now this isn't the most exciting realisation of that idea, but it does also touch on an idea I want to look at\n",
    "developing further as part of `arlunio` itself. Applying the concept of interfaces to arlunio images I think\n",
    "could be very powerful - imagine having some generic \"human\" that knew how to walk and all you had to\n",
    "do was tell it how to draw one...\n",
    "\n",
    "Anyway back to this image, as you've probably noticed by now it's a clock - not a very interesting clock\n",
    "but it tells the time, in fact it's frozen at the time that it was when the image was rendered."
   ]
  },
  {
   "cell_type": "code",
   "execution_count": null,
   "metadata": {},
   "outputs": [],
   "source": [
    "import arlunio as ar\n",
    "import numpy as np\n",
    "\n",
    "from arlunio import Shapes as S\n",
    "from datetime import datetime"
   ]
  },
  {
   "cell_type": "markdown",
   "metadata": {},
   "source": [
    "As the clock is made up from a collection of distinct shapes you need to ensure that each\n",
    "component needs to be defined with a consistent scale otherwise it won't look right. I found\n",
    "it useful to say that the radius of the clockface is `1` and then define everything else relative\n",
    "to that. However since the default scale of the grid an image is defined on is also `1` the\n",
    "clock would look a bit cramped as it would run right up againt the edge.\n",
    "\n",
    "Rather than work to a more awkard scale I'm defining a `scale` paramaeter that I'm going to pass\n",
    "to each shape. This changes the size of the underlying cartesian grid that is mapped onto the\n",
    "image when drawn. By enlarging this grid each shape will appear smaller and fit better into the\n",
    "final image"
   ]
  },
  {
   "cell_type": "code",
   "execution_count": null,
   "metadata": {},
   "outputs": [],
   "source": [
    "scale = 1.1"
   ]
  },
  {
   "cell_type": "markdown",
   "metadata": {},
   "source": [
    "As you've probably noticed the hands of the clock are just rectangles, but instead of\n",
    "using the built in `Rectangle` shape in the standard library I've decided to define\n",
    "a custom `ClockHand` shape. This is because the standard `Rectangle` shape is hard to\n",
    "control in this scenario (perhaps this should be improved 🤔...) You will also see that \n",
    "I'm using [polar coordinates](https://en.wikipedia.org/wiki/Polar_coordinate_system)\n",
    "instead of the conventional \\\\(x\\\\) and \\\\(y\\\\)\n",
    "\n",
    "By defining the `ClockHand` shape with polar coordinates adding the ability to set the\n",
    "rotation becomes easy since all we have to do is take an offset `t0` and subtract it from\n",
    "the angle parameter `t`. Something to note is that when `arlunio` maps polar coordinates onto\n",
    "an image it follows the mathematical convention of having the line `t = 0` be at\n",
    "3 o'clock, so in order to make positioning the hands is easier later on I also shift this\n",
    "coordinate by \\\\(\\frac{\\pi}{2}\\\\) (90 degrees) so when `t0 = 0` the hand will be pointing at\n",
    "12 o'clock\n",
    "\n",
    "Unfortunately while nice for expressing rotations, polar coordinates are certainly not the\n",
    "best at expressing a rectangle. Thankfully the conversion from polar to standard \\\\(x\\\\) and\n",
    "\\\\(y\\\\) coordinates is quite straightforward\n",
    "\n",
    "\\begin{align}\n",
    "    x &= r\\cos{(t)} \\\\\\\\\n",
    "    y &= r\\sin{(t)} \n",
    "\\end{align}\n",
    "\n",
    "Once we have our \\\\(x\\\\) and \\\\(y\\\\) coordinates it's easy enough to define a rectangle as\n",
    "(ar.)all the \\\\(x\\\\) values between `0` and the `length` **and** all the \\\\(y\\\\) values\n",
    "between `-size` and `size`."
   ]
  },
  {
   "cell_type": "code",
   "execution_count": null,
   "metadata": {},
   "outputs": [],
   "source": [
    "@ar.shape\n",
    "def ClockHand(r, t, *, length=1, size=0.025, t0=0):\n",
    "    t -= np.pi/2 - t0\n",
    "    \n",
    "    x = r * np.cos(t)\n",
    "    y = r * np.sin(t)\n",
    "      \n",
    "    return ar.all(\n",
    "        x > 0, x < length,\n",
    "        np.abs(y) < size\n",
    "    )"
   ]
  },
  {
   "cell_type": "markdown",
   "metadata": {},
   "source": [
    "Similar to..."
   ]
  },
  {
   "cell_type": "code",
   "execution_count": null,
   "metadata": {},
   "outputs": [],
   "source": [
    "\n",
    "@ar.shape\n",
    "def Numeral(r, t, *, t0=0):\n",
    "    t -= np.pi/2 - t0\n",
    "    \n",
    "    x = r * np.cos(t)\n",
    "    y = r * np.sin(t)\n",
    "    \n",
    "    return ar.all(\n",
    "        x > 0.8, x < 0.95,\n",
    "        np.abs(y) < (0.1 * x) - 0.07\n",
    "    )"
   ]
  },
  {
   "cell_type": "code",
   "execution_count": null,
   "metadata": {},
   "outputs": [],
   "source": [
    "def make_clock(dt, hour_hand=None, minute_hand=None, second_hand=None):\n",
    "    hour = dt.hour if dt.hour <= 12 else dt.hour - 12\n",
    "    minutes = dt.minute\n",
    "    seconds = dt.second\n",
    "    \n",
    "    second_hand.t0 = 2 * np.pi * (seconds / 60) \n",
    "    minute_hand.t0 = 2 * np.pi * (minutes / 60)\n",
    "    hour_hand.t0 = 2 * np.pi * ((hour / 12) + (minutes / 600))\n",
    "    \n",
    "    center = S.Circle(r=0.2)\n",
    "    \n",
    "    clock = hour_hand + minute_hand + second_hand + center\n",
    "    return clock"
   ]
  },
  {
   "cell_type": "code",
   "execution_count": null,
   "metadata": {},
   "outputs": [],
   "source": [
    "hour_hand = ClockHand(size=0.02, length=0.5, scale=scale)\n",
    "minute_hand = ClockHand(size=0.02, length=0.8, scale=scale)\n",
    "second_hand = ClockHand(size=0.01, length=.95, color=\"ff0000\", scale=scale)\n",
    "\n",
    "clock = S.Circle(r=1, pt=0.01, scale=scale)\n",
    "\n",
    "for i in range(12):\n",
    "    t0 = i * (np.pi / 6)\n",
    "    clock += Numeral(t0=t0, scale=scale)\n",
    "\n",
    "clock += make_clock(datetime.now(), hour_hand, minute_hand, second_hand)"
   ]
  }
 ],
 "metadata": {
  "arlunio": {
   "author": {
    "github": "alcarney",
    "name": "Alex Carney"
   },
   "dimensions": [
    1920,
    1080
   ],
   "version": "0.0.3b8"
  },
  "kernelspec": {
   "display_name": "Python 3",
   "language": "python",
   "name": "python3"
  },
  "language_info": {
   "codemirror_mode": {
    "name": "ipython",
    "version": 3
   },
   "file_extension": ".py",
   "mimetype": "text/x-python",
   "name": "python",
   "nbconvert_exporter": "python",
   "pygments_lexer": "ipython3",
   "version": "3.8.1"
  }
 },
 "nbformat": 4,
 "nbformat_minor": 4
}
