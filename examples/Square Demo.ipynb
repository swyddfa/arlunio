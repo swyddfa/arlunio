{
 "cells": [
  {
   "cell_type": "markdown",
   "metadata": {},
   "source": [
    ".."
   ]
  },
  {
   "cell_type": "code",
   "execution_count": null,
   "metadata": {},
   "outputs": [],
   "source": [
    "import arlunio as ar\n",
    "import arlunio.image as image\n",
    "import arlunio.math as math\n",
    "import arlunio.shape as shape\n",
    "\n",
    "@ar.definition\n",
    "def SquareDemo(x: math.X, y: math.Y):\n",
    "    img = None\n",
    "    squares = [\n",
    "        (shape.Square(pt=0.01), x, y),\n",
    "        (shape.Square(pt=0.01), x + y, x - y),\n",
    "        (shape.Square(size=0.39, pt=0.01), x, y),\n",
    "        (shape.Square(size=0.39, pt=0.01), x + y, x - y),\n",
    "        (shape.Square(size=0.2), x, y),\n",
    "    ]\n",
    "\n",
    "    bg = \"white\"\n",
    "\n",
    "    for square, sx, sy in squares:\n",
    "        img = image.fill(square(x=sx, y=sy), image=img, background=bg)\n",
    "        bg = None\n",
    "\n",
    "    return img\n",
    "\n",
    "square = SquareDemo()\n",
    "img = square(width=1920, height=1080)"
   ]
  }
 ],
 "metadata": {
  "arlunio": {
   "author": {
    "github": "swyddfa",
    "name": "Swyddfa Developers"
   },
   "version": "0.11.0"
  }
 },
 "nbformat": 4,
 "nbformat_minor": 4
}