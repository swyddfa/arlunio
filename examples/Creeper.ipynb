{
 "cells": [
  {
   "cell_type": "markdown",
   "metadata": {},
   "source": [
    ".."
   ]
  },
  {
   "cell_type": "code",
   "execution_count": null,
   "metadata": {},
   "outputs": [],
   "source": [
    "import numpy as np\n",
    "\n",
    "import arlunio.image as image\n",
    "import arlunio.mask as mask\n",
    "\n",
    "face = np.array([\n",
    "    [False, False, False, False, False, False, False, False],\n",
    "    [False, False, False, False, False, False, False, False],\n",
    "    [False,  True,  True, False, False,  True,  True, False],\n",
    "    [False,  True,  True, False, False,  True,  True, False],\n",
    "    [False, False, False,  True,  True, False, False, False],\n",
    "    [False, False,  True,  True,  True,  True, False, False],\n",
    "    [False, False,  True,  True,  True,  True, False, False],\n",
    "    [False, False,  True, False, False,  True, False, False],\n",
    "])\n",
    "\n",
    "defn = mask.Pixelize(mask=face)\n",
    "img = image.fill(defn(width=512, height=512), background=\"white\")"
   ]
  }
 ],
 "metadata": {
  "arlunio": {
   "author": {
    "github": "swyddfa",
    "name": "Swyddfa Developers"
   },
   "version": "0.11.0"
  }
 },
 "nbformat": 4,
 "nbformat_minor": 4
}