{
 "cells": [
  {
   "cell_type": "markdown",
   "metadata": {},
   "source": [
    "\"Eye of Sauron\":"
   ]
  },
  {
   "cell_type": "code",
   "execution_count": null,
   "metadata": {},
   "outputs": [],
   "source": [
    "import arlunio as ar\n",
    "import arlunio.image as image\n",
    "import arlunio.shape as shape\n",
    "\n",
    "\n",
    "@ar.definition\n",
    "def Sauron(width: int, height: int):\n",
    "    img = image.new(width, height, color=\"white\")\n",
    "    ellipses = [\n",
    "        (shape.SuperEllipse(a=2, n=3, m=0.2, r=0.98),'#f00'),\n",
    "        (shape.SuperEllipse(n=2),'#f50'),\n",
    "        (shape.SuperEllipse(n=0.1, m=2), '#000'),\n",
    "    ]\n",
    "\n",
    "    for ellipse, color in ellipses:\n",
    "        img = image.fill(\n",
    "            ellipse(width=1920, height=1080), foreground=color, image=img\n",
    "        )\n",
    "\n",
    "    return img\n",
    "\n",
    "eye = Sauron()\n",
    "img = eye(width=1920, height=1080)"
   ]
  }
 ],
 "metadata": {
  "arlunio": {
   "author": {
    "github": "swyddfa",
    "name": "Swyddfa Developers"
   },
   "version": "0.11.0"
  }
 },
 "nbformat": 4,
 "nbformat_minor": 4
}