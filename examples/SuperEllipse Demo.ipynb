{
 "cells": [
  {
   "cell_type": "markdown",
   "metadata": {},
   "source": [
    ".."
   ]
  },
  {
   "cell_type": "code",
   "execution_count": null,
   "metadata": {},
   "outputs": [],
   "source": [
    "import arlunio as ar\n",
    "import arlunio.image as image\n",
    "import arlunio.shape as shape\n",
    "\n",
    "@ar.definition\n",
    "def SuperEllipseDemo(width: int, height: int):\n",
    "    img = image.new(width, height, color=\"white\")\n",
    "    ellipses = [\n",
    "        (shape.SuperEllipse(n=0.5, pt=0.01),'#f00'),\n",
    "        (shape.SuperEllipse(n=1, pt=0.01),'#0f0'),\n",
    "        (shape.SuperEllipse(n=1.5, pt=0.01), '#00f'),\n",
    "        (shape.SuperEllipse(n=2, pt=0.01), '#ff0'),\n",
    "        (shape.SuperEllipse(n=3, pt=0.01), '#0ff')\n",
    "    ]\n",
    "\n",
    "    for ellipse, color in ellipses:\n",
    "        img = image.fill(\n",
    "            ellipse(width=1920, height=1080), foreground=color, image=img\n",
    "        )\n",
    "\n",
    "    return img\n",
    "\n",
    "demo = SuperEllipseDemo()\n",
    "img = demo(width=1920, height=1080)"
   ]
  }
 ],
 "metadata": {
  "arlunio": {
   "author": {
    "github": "swyddfa",
    "name": "Swyddfa Developers"
   },
   "version": "0.11.0"
  }
 },
 "nbformat": 4,
 "nbformat_minor": 4
}