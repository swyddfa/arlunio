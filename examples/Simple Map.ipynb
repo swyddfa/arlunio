{
 "cells": [
  {
   "cell_type": "markdown",
   "metadata": {},
   "source": [
    ".."
   ]
  },
  {
   "cell_type": "code",
   "execution_count": null,
   "metadata": {},
   "outputs": [],
   "source": [
    "import arlunio.image as image\n",
    "import arlunio.mask as mask\n",
    "import arlunio.shape as shape\n",
    "\n",
    "import numpy as np\n",
    "\n",
    "top = shape.Rectangle(size=0.2, yc=1, ratio=50)\n",
    "left = shape.Rectangle(size=0.2, xc=-1, ratio=1/50)\n",
    "right = shape.Rectangle(size=0.2, xc=1, ratio=1/50)\n",
    "bottom = shape.Rectangle(size=0.2, yc=-1, ratio=50)\n",
    "\n",
    "legend = {\n",
    "    \"tt\": top,\n",
    "    \"bb\": bottom,\n",
    "    \"ll\": left,\n",
    "    \"rr\": right,\n",
    "    \"tl\": top + left,\n",
    "    \"tr\": top + right,\n",
    "    \"bl\": bottom + left,\n",
    "    \"br\": bottom + right\n",
    "}\n",
    "\n",
    "layout = np.array([\n",
    "    [\"tt\", \"tt\", \"tt\", \"tt\", \"tr\"],\n",
    "    [  \"\", \"tl\", \"tt\", \"tr\", \"rr\"],\n",
    "    [  \"\", \"ll\", \"bl\", \"br\", \"rr\"],\n",
    "    [  \"\", \"bl\", \"bb\", \"bb\", \"br\"],\n",
    "    [  \"\",   \"\",   \"\",   \"\",   \"\"]\n",
    "])\n",
    "\n",
    "map_ = mask.Map(legend=legend, layout=layout)\n",
    "img = image.fill(\n",
    "    map_(width=1080, height=1080), foreground=\"blue\", background=\"white\"\n",
    ")"
   ]
  }
 ],
 "metadata": {
  "arlunio": {
   "author": {
    "github": "swyddfa",
    "name": "Swyddfa Developers"
   },
   "version": "0.11.0"
  }
 },
 "nbformat": 4,
 "nbformat_minor": 4
}