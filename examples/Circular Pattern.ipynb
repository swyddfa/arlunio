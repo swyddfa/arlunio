{
 "cells": [
  {
   "cell_type": "markdown",
   "metadata": {},
   "source": [
    "A pattern generated from circles:"
   ]
  },
  {
   "cell_type": "code",
   "execution_count": null,
   "metadata": {},
   "outputs": [],
   "source": [
    "import arlunio as ar\n",
    "import numpy as np\n",
    "\n",
    "import arlunio.image as image\n",
    "import arlunio.math as math\n",
    "import arlunio.mask as mask\n",
    "import arlunio.shape as shape\n",
    "\n",
    "@ar.definition\n",
    "def Template(x: math.X, y: math.Y) -> mask.Mask:\n",
    "    c = shape.Circle(xc=0.4, yc=0.4, pt=0.02)\n",
    "    return c(x=np.abs(x), y=np.abs(y))\n",
    "\n",
    "pattern = mask.Repeat(defn=Template(scale=1.))\n",
    "img = image.fill(\n",
    "    pattern(width=1080, height=1080), background=\"#000\", foreground=\"#ff0\"\n",
    ")"
   ]
  }
 ],
 "metadata": {
  "arlunio": {
   "author": {
    "github": "swyddfa",
    "name": "Swyddfa Developers"
   },
   "version": "0.11.0"
  }
 },
 "nbformat": 4,
 "nbformat_minor": 4
}