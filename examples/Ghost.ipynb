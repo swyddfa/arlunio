{
 "cells": [
  {
   "cell_type": "markdown",
   "metadata": {},
   "source": [
    ".."
   ]
  },
  {
   "cell_type": "code",
   "execution_count": null,
   "metadata": {},
   "outputs": [],
   "source": [
    "import arlunio as ar\n",
    "import arlunio.image as image\n",
    "import arlunio.mask as mask\n",
    "import arlunio.math as math\n",
    "import arlunio.shape as shape\n",
    "\n",
    "import numpy as np\n",
    "\n",
    "@ar.definition\n",
    "def Ghost(x: math.X, y: math.Y) -> mask.Mask:\n",
    "    head = shape.Circle(yc=0.5, r=0.7)\n",
    "    eyes = shape.Circle(xc=0.2, yc=0.6, r=0.3)\n",
    "\n",
    "    body = mask.all_(\n",
    "        y < 0.5,\n",
    "        np.abs(x) < 0.49,\n",
    "        0.1 * np.cos(5 * np.pi * x) - 0.3 < y\n",
    "    )\n",
    "\n",
    "    return (head(x=x, y=y) - eyes(x=np.abs(x), y=y)) + body\n",
    "\n",
    "ghost = mask.Pixelize(defn=Ghost(y0=-0.3), scale=32)\n",
    "img = image.fill(\n",
    "    ghost(width=1080, height=1080), foreground=\"#f00\", background=\"white\"\n",
    ")"
   ]
  }
 ],
 "metadata": {
  "arlunio": {
   "author": {
    "github": "swyddfa",
    "name": "Swyddfa Developers"
   },
   "version": "0.11.0"
  }
 },
 "nbformat": 4,
 "nbformat_minor": 4
}