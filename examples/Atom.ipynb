{
 "cells": [
  {
   "cell_type": "markdown",
   "metadata": {},
   "source": [
    "Playing around with the values and the coordinate inputs it's possible to\n",
    "draw something that looks like a diagram of an atom:"
   ]
  },
  {
   "cell_type": "code",
   "execution_count": null,
   "metadata": {},
   "outputs": [],
   "source": [
    "import arlunio as ar\n",
    "import arlunio.image as image\n",
    "import arlunio.math as math\n",
    "import arlunio.shape as shape\n",
    "\n",
    "@ar.definition\n",
    "def Atom(x: math.X, y: math.Y):\n",
    "    img = None\n",
    "\n",
    "    ellipses = [\n",
    "        (shape.Ellipse(a=1.5, b=0.5, pt=0.005), x, y),\n",
    "        (shape.Ellipse(a=1.5, b=0.5, r=1, pt=0.005), x + y, y - x),\n",
    "        (shape.Ellipse(a=0.5, b=1.5, pt=0.005), x, y),\n",
    "        (shape.Ellipse(a=1.5, b=0.5, r=1, pt=0.005), x - y, x + y),\n",
    "        (shape.Ellipse(a=1, b=1, r=0.15), x, y)\n",
    "    ]\n",
    "\n",
    "    bg = \"white\"\n",
    "\n",
    "    for ellipse, ex, ey in ellipses:\n",
    "        img = image.fill(ellipse(x=ex, y=ey), image=img, background=bg)\n",
    "        bg = None\n",
    "\n",
    "    return img\n",
    "\n",
    "atom = Atom()\n",
    "img = atom(width=1920, height=1080)"
   ]
  }
 ],
 "metadata": {
  "arlunio": {
   "author": {
    "github": "swyddfa",
    "name": "Swyddfa Developers"
   },
   "version": "0.11.0"
  }
 },
 "nbformat": 4,
 "nbformat_minor": 4
}