{
 "cells": [
  {
   "cell_type": "markdown",
   "metadata": {},
   "source": [
    ".."
   ]
  },
  {
   "cell_type": "code",
   "execution_count": null,
   "metadata": {},
   "outputs": [],
   "source": [
    "import arlunio as ar\n",
    "import arlunio.image as image\n",
    "import arlunio.shape as shape\n",
    "\n",
    "@ar.definition\n",
    "def OlympicRings(width: int, height: int, *, spacing=0.5, pt=0.025):\n",
    "\n",
    "    dy = spacing / 4\n",
    "    dx = spacing / 2\n",
    "    args = {\"scale\": 0.5, \"r\": spacing, \"pt\": pt}\n",
    "\n",
    "    img = image.new((width, height), color=\"white\")\n",
    "    rings = [\n",
    "        (shape.Circle(yc=dy, xc=-(2.2 * dx), **args), \"#0ff\"),\n",
    "        (shape.Circle(yc=dy, **args), \"#000\"),\n",
    "        (shape.Circle(yc=dy, xc=(2.2 * dx), **args), \"#f00\"),\n",
    "        (shape.Circle(yc=-dy, xc=-(1.1 * dx), **args), \"#ff0\"),\n",
    "        (shape.Circle(yc=-dy, xc=(1.1 * dx), **args), \"#0f0\")\n",
    "    ]\n",
    "\n",
    "    for ring, color in rings:\n",
    "        img = image.fill(\n",
    "            ring(width=width, height=height), foreground=color, image=img\n",
    "        )\n",
    "\n",
    "    return img\n",
    "\n",
    "rings = OlympicRings()\n",
    "img = rings(width=1920, height=1080)"
   ]
  }
 ],
 "metadata": {
  "arlunio": {
   "author": {
    "github": "swyddfa",
    "name": "Swyddfa Developers"
   },
   "version": "0.11.0"
  }
 },
 "nbformat": 4,
 "nbformat_minor": 4
}