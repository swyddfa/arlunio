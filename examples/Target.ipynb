{
 "cells": [
  {
   "cell_type": "markdown",
   "metadata": {},
   "source": [
    "Combining a few circles we're able to draw a target:"
   ]
  },
  {
   "cell_type": "code",
   "execution_count": null,
   "metadata": {},
   "outputs": [],
   "source": [
    "import arlunio as ar\n",
    "import arlunio.image as image\n",
    "import arlunio.shape as shape\n",
    "\n",
    "@ar.definition\n",
    "def Target(width: int, height: int) -> image.Image:\n",
    "    img = image.new((width, height), color=\"white\")\n",
    "    parts = [\n",
    "        (shape.Circle(pt=0.02), \"#000\"),\n",
    "        (shape.Circle(r=0.75, pt=0.12), \"#f00\"),\n",
    "        (shape.Circle(r=0.6, pt=0.05), \"#f00\"),\n",
    "        (shape.Circle(r=0.4), \"#f00\"),\n",
    "    ]\n",
    "\n",
    "    for part, color in parts:\n",
    "        img = image.fill(\n",
    "            part(width=width, height=height), foreground=color, image=img\n",
    "        )\n",
    "\n",
    "    return img\n",
    "\n",
    "target = Target()\n",
    "img = target(width=1920, height=1080)"
   ]
  }
 ],
 "metadata": {
  "arlunio": {
   "author": {
    "github": "swyddfa",
    "name": "Swyddfa Developers"
   },
   "version": "0.11.0"
  }
 },
 "nbformat": 4,
 "nbformat_minor": 4
}