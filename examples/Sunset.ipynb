{
 "cells": [
  {
   "cell_type": "markdown",
   "metadata": {},
   "source": [
    "Sunset:"
   ]
  },
  {
   "cell_type": "code",
   "execution_count": null,
   "metadata": {},
   "outputs": [],
   "source": [
    "import arlunio.image as image\n",
    "import arlunio.shape as shape\n",
    "\n",
    "w, h = 1920, 1080\n",
    "img = image.new(w, h, color=\"darkorange\")\n",
    "\n",
    "sun = shape.Circle(xc=-1.2, yc=0, r=0.6)\n",
    "img += image.fill(sun(width=w, height=h), foreground=\"yellow\")\n",
    "\n",
    "hill = shape.Circle(xc=-1, yc=-2.1, r=1.5)\n",
    "img += image.fill(hill(width=w, height=h), foreground=\"forestgreen\")\n",
    "\n",
    "hill = shape.Circle(xc=1, yc=-1.8, r=1.3)\n",
    "img += image.fill(hill(width=w, height=h), foreground=\"green\")"
   ]
  }
 ],
 "metadata": {
  "arlunio": {
   "author": {
    "github": "swyddfa",
    "name": "Swyddfa Developers"
   },
   "version": "0.11.0"
  }
 },
 "nbformat": 4,
 "nbformat_minor": 4
}